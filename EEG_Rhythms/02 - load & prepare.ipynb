{
 "cells": [
  {
   "cell_type": "markdown",
   "id": "6d06b2aa",
   "metadata": {},
   "source": [
    "# Este arquivo realizará o carregamento e preparação de dados\n",
    "\n",
    "**Realizando os imports**"
   ]
  },
  {
   "cell_type": "code",
   "execution_count": 1,
   "id": "ecb7d73b",
   "metadata": {},
   "outputs": [],
   "source": [
    "import numpy as np\n",
    "import csv\n",
    "import re"
   ]
  },
  {
   "cell_type": "markdown",
   "id": "be904b63",
   "metadata": {},
   "source": [
    "**Fazendo o carregamento inicial**"
   ]
  },
  {
   "cell_type": "code",
   "execution_count": 11,
   "id": "02266da4",
   "metadata": {},
   "outputs": [
    {
     "name": "stdout",
     "output_type": "stream",
     "text": [
      "(175952, 8)\n"
     ]
    }
   ],
   "source": [
    "with open('datasets/OpenBCI_GUI-v5-meditation.txt') as arquivo:\n",
    "    linhas = arquivo.readlines()\n",
    "\n",
    "data = list()\n",
    "for i, linha in enumerate(linhas):\n",
    "    res = re.search('^\\d{1,3},((\\ -?.+?,){8})', linha)\n",
    "    if res:\n",
    "        cols = res.group(1)\n",
    "        data.append([float(d[1:]) for d in cols.split(',') if d])\n",
    "\n",
    "data = np.array(data[1:])\n",
    "# quantidade de dados\n",
    "print(data.shape)\n",
    "\n",
    "np.save(\"datasets/OpenBCI_GUI-v5-meditation.npy\", data)"
   ]
  }
 ],
 "metadata": {
  "kernelspec": {
   "display_name": "Python 3 (ipykernel)",
   "language": "python",
   "name": "python3"
  },
  "language_info": {
   "codemirror_mode": {
    "name": "ipython",
    "version": 3
   },
   "file_extension": ".py",
   "mimetype": "text/x-python",
   "name": "python",
   "nbconvert_exporter": "python",
   "pygments_lexer": "ipython3",
   "version": "3.10.7"
  }
 },
 "nbformat": 4,
 "nbformat_minor": 5
}
