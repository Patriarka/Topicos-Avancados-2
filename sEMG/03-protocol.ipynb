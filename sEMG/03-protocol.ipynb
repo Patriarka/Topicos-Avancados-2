{
 "cells": [
  {
   "cell_type": "markdown",
   "id": "6093c079",
   "metadata": {},
   "source": [
    "# Protocolo experimental sEMG\n",
    "\n",
    "Neste notebook será descrito o protocolo experimental para aquisição de dados utilizando eletromiografia de superfície (sEMG)."
   ]
  },
  {
   "cell_type": "markdown",
   "id": "a5307cc7",
   "metadata": {},
   "source": [
    "## Materiais\n",
    "\n",
    "Nesta seção será apresentada as especificações da placa de captura de sinal EMG e os eletrodos utilizados\n",
    "\n",
    "### Placa de captura\n",
    "\n",
    "A placa de aquisição de dados EMG é a [OpenBCI Ganglion](https://docs.openbci.com/Ganglion/GanglionLanding/). Esta placa possui as seguintes específicações:\n",
    "- 4 canais de alta impedância\n",
    "- Dados amostrados em 200Hz \n",
    "- Comunicação Bluetooth Low Energy (BLE) utilizando Simblee\n",
    "- Conversor A/D 24 bit em 4 canais simultâneos (MCP3912)\n",
    "\n",
    "### Eletrodos\n",
    "\n",
    "Eletrodos são fixados por um adesivo condutivo em contato com uma superfície Prata-Cloreto de Prata (Ag/AgCl). \n",
    "\n",
    "Cada canal é mensurado por meio de 2 eletrodos a 1 cm próximo um do outro (+/-) e mais um eletrodo de referência.\n",
    "\n",
    "O fio condutor é fixado ao eletrodo com um terminal \"boca de jacaré\"."
   ]
  },
  {
   "cell_type": "markdown",
   "id": "2d0e316f",
   "metadata": {},
   "source": [
    "## Métodos\n",
    "\n",
    "Nesta seção será apresentado o posicionamento dos eletrodos na superfície do antebraço de cada participante, os movimentos realizados, o tempo de realização de cada movimento, o tempo de descanço e quantidade de seções realizadas.\n",
    "\n",
    "Será também apresentado o software para visualização de aquisição e o script para armazenamento dos sinais e marcadores de movimento.\n",
    "\n",
    "### Participantes\n",
    "\n",
    "Os experimentos foram realizados com 10 participantes saudáveis, sendo nove homens entre 21 e 39 anos e uma mulher de 24 anos.\n",
    "\n",
    "### Posicionamento dos eletrodos\n",
    "\n",
    "São posicionados 8 eletrodos +/- referente a 4 canais, mais 1 de referência combinada, nas seguintes regiões do membro superior:\n",
    "1. (canal) Músculo extensor dos dedos;\n",
    "2. (canal) Músculo extensor ulnar do carpo;\n",
    "3. (canal) Músculo flexor superficial dos dedos;\n",
    "4. (canal) Músculo flexor radial do carpo;\n",
    "5. (referência) cotovelo.\n",
    "\n",
    "![Músculos do antebraço](images/forearm_muscles.png \"Músculos do antebraço\")\n",
    "![Momento do experimento](images/place_electrodes.jpeg \"Momento do experimento\")\n",
    "\n",
    "Cada posição referente a um canal, estão posicionados dois eletrodos com 2cm de distância um do outro (+/-).\n",
    "\n",
    "### Movimentos\n",
    "\n",
    "8 movimentos serão realizados durante as seções. São eles:\n",
    "- Flexão de punho (fechar a mão);\n",
    "- Extensão de punho (abrir a mão);\n",
    "- Pinça (segurar objeto pequeno);\n",
    "- Segurar cartão;\n",
    "- Segurar caneta;\n",
    "- Segurar esfera;\n",
    "- Segurar copo;\n",
    "- Gancho (segurar objeto com alça).\n",
    "\n",
    "### Sessões\n",
    "\n",
    "Cada movimento terá a duração de 8 segundos, sendo que o movimento permaneça até o término deste tempo. Entre os movimentos, terá um tempo de descanço de 10 segundos.\n",
    "\n",
    "Toda esta sequência de movimentos e descanço, será repetida 3 vezes para cada participante, com um intervalo de descanço de ~2 minutos entre cada sessão.\n",
    "\n",
    "Ao todo, o tempo de experimentação com cada participante será de aproximadamente 11 minutos e 12 segundos.\n",
    "\n",
    "O tempo total de dados gravados para cada participante é de 3 minutos e 12 segundos. Isto implica em 38.400 amostras para cada canal (8 classes, 4 canais, 4800 amostras).\n",
    "\n",
    "### Software\n",
    "\n",
    "- [OpenBCI GUI](https://docs.openbci.com/Software/OpenBCISoftware/GUIDocs/): Utilizado para visualização dos dados EMG no domínio do tempo e da frequência (FFT). Além disso, é utilizado para encaminhar os dados para gravação organizada em *trials* e rótulos, utilizando o protocolo de comunicação Lab Stremming Layer (LSL).\n",
    "- [receive_LSL.py](https://github.com/bneurd/realtime_rec/blob/master/receive_LSL.py): dados recebidos por LSL são armazenados em trials por meio de um protocolo definido no script, além de rotulá-los de acordo com cada movimento realizado."
   ]
  }
 ],
 "metadata": {
  "kernelspec": {
   "display_name": "Python 3 (ipykernel)",
   "language": "python",
   "name": "python3"
  },
  "language_info": {
   "codemirror_mode": {
    "name": "ipython",
    "version": 3
   },
   "file_extension": ".py",
   "mimetype": "text/x-python",
   "name": "python",
   "nbconvert_exporter": "python",
   "pygments_lexer": "ipython3",
   "version": "3.9.7"
  }
 },
 "nbformat": 4,
 "nbformat_minor": 5
}
