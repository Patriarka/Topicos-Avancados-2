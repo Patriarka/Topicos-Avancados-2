{
 "cells": [
  {
   "cell_type": "markdown",
   "id": "c4ca6926",
   "metadata": {},
   "source": [
    "## Aplicando *Multilayer Perceptron*\n",
    "\n",
    "Está demonstrado neste ponto a execução de um Multilayer Perceptron (MLP) utilizando o framework para construção e execução de Redes Neurais Artificias (RNN) Keras.\n",
    "\n",
    "Vamos iniciar mostrando como carregar uma base de dados da UCI e utilizar o classificador ID3 obtido por meio scikit learn. A base de dados é a Car Evaluation Data Set (https://archive.ics.uci.edu/ml/datasets/Car+Evaluation).\n",
    "\n",
    "O dataset possui os seguintes atributos:\n",
    "\n",
    "- buying: vhigh, high, med, low.\n",
    "- maint: vhigh, high, med, low.\n",
    "- doors: 2, 3, 4, 5more.\n",
    "- persons: 2, 4, more.\n",
    "- lug_boot: small, med, big.\n",
    "- safety: low, med, high.\n",
    "E as seguintes classes: unacc, acc, good, vgood\n",
    "\n",
    "### Definição de todas as bibliotecas"
   ]
  },
  {
   "cell_type": "code",
   "execution_count": null,
   "id": "2ab2c4bd",
   "metadata": {},
   "outputs": [],
   "source": [
    "from keras import regularizers\n",
    "from keras.models import Sequential\n",
    "from keras.layers import Dense, Dropout\n",
    "from keras.optimizers import SGD, Adam\n",
    "from keras.utils.np_utils import to_categorical\n",
    "import numpy as np\n",
    "from sklearn.metrics import classification_report, accuracy_score, confusion_matrix\n",
    "from sklearn.model_selection import GridSearchCV, train_test_split\n",
    "from sklearn.preprocessing import LabelEncoder\n",
    "from urllib.request import urlopen, urlretrieve\n",
    "\n",
    "import matplotlib.pyplot as plt\n",
    "%matplotlib inline"
   ]
  },
  {
   "cell_type": "markdown",
   "id": "028a8dc6",
   "metadata": {},
   "source": [
    "### Código para o carregamento da base de dados\n",
    "\n",
    "Após o carregamento dos dados, é utilizado a função LabelEncoder para transformar os dados de categóricos para numéricos."
   ]
  },
  {
   "cell_type": "code",
   "execution_count": null,
   "id": "fd7ac416",
   "metadata": {},
   "outputs": [],
   "source": [
    "url = 'https://archive.ics.uci.edu/ml/machine-learning-databases/car/car.data'\n",
    "urlretrieve(url, 'car.txt')\n",
    "filedata = open('car.txt')\n",
    "data = filedata.read()\n",
    "dataset = np.array([s.split(',') for s in data.split('\\n')][:-1])\n",
    "print(dataset)\n",
    "print(len(dataset))\n",
    "print(dataset.shape)\n",
    "\n",
    "# Transformação dos valores de categórico para numérico\n",
    "le = LabelEncoder()\n",
    "features = np.array([le.fit_transform(f) for f in dataset[:, :-1].T]).T\n",
    "\n",
    "# obtendo a coluna com as respostas\n",
    "labels = le.fit_transform(dataset[:, -1])\n",
    "categorical_labels = to_categorical(labels, num_classes=len(set(labels)))"
   ]
  },
  {
   "cell_type": "markdown",
   "id": "0e67456f",
   "metadata": {},
   "source": [
    "### Desenvolvimento da função para plotar os custos e as acurácias:"
   ]
  },
  {
   "cell_type": "code",
   "execution_count": null,
   "id": "446c82e7",
   "metadata": {},
   "outputs": [],
   "source": [
    "def plot_history(h):\n",
    "    loss_list = [s for s in h.history.keys() if 'loss' in s and 'val' not in s]\n",
    "    val_loss_list = [s for s in h.history.keys() if 'loss' in s and 'val' in s]\n",
    "    acc_list = [s for s in h.history.keys() if 'acc' in s and 'val' not in s]\n",
    "    val_acc_list = [s for s in h.history.keys() if 'acc' in s and 'val' in s]\n",
    "    if len(loss_list) == 0:\n",
    "        print('Custo não está presente no histórico')\n",
    "        return\n",
    "    epochs = range(1, len(history.history[loss_list[0]]) + 1)\n",
    "    # Custo\n",
    "    plt.figure(1)\n",
    "    for l in loss_list:\n",
    "        plt.plot(epochs, h.history[l], 'b',\n",
    "                 label='Custo [treinamento] (' + str(str(format(\n",
    "                    h.history[l][-1],'.5f'))+')'))\n",
    "    for l in val_loss_list:\n",
    "        plt.plot(epochs, h.history[l], 'g',\n",
    "                 label='Custo [validação] (' + str(str(format(\n",
    "                    h.history[l][-1],'.5f'))+')'))\n",
    "    plt.title('Custo')\n",
    "    plt.xlabel('Épocas')\n",
    "    plt.ylabel('Custo')\n",
    "    plt.legend()\n",
    "    # Acurácia\n",
    "    plt.figure(2)\n",
    "    for l in acc_list:\n",
    "        plt.plot(epochs, h.history[l], 'b',\n",
    "                 label='Acurácia [treinamento] (' + str(format(\n",
    "                    h.history[l][-1],'.5f'))+')')\n",
    "    for l in val_acc_list:\n",
    "        plt.plot(epochs, h.history[l], 'g',\n",
    "                 label='Acurácia [validação] (' + str(format(\n",
    "                    h.history[l][-1],'.5f'))+')')\n",
    "    plt.title('Acurácia')\n",
    "    plt.xlabel('Épocas')\n",
    "    plt.ylabel('Acurácia')\n",
    "    plt.legend()\n",
    "    plt.show()"
   ]
  },
  {
   "cell_type": "markdown",
   "id": "da08ad62",
   "metadata": {},
   "source": [
    "### Divisão dos dados em treino e teste:"
   ]
  },
  {
   "cell_type": "code",
   "execution_count": null,
   "id": "3b15f5be",
   "metadata": {},
   "outputs": [],
   "source": [
    "# Dividindo em conjuntos de treino (80%) e teste (20%)\n",
    "X_train, X_test, y_train, y_test = train_test_split(\n",
    "    features, categorical_labels, test_size=0.3)\n",
    "\n",
    "# treino: 80% dos 80% de treino. teste: 20% dos 80% de treino.\n",
    "X_train, X_val, y_train, y_val = train_test_split(\n",
    "    X_train, y_train, test_size=0.3, shuffle=True)"
   ]
  },
  {
   "cell_type": "markdown",
   "id": "59d19ff3",
   "metadata": {},
   "source": [
    "### Aplicação do algoritmo de MLP e geração dos resultados:"
   ]
  },
  {
   "cell_type": "code",
   "execution_count": null,
   "id": "376a2e82",
   "metadata": {},
   "outputs": [],
   "source": [
    "# definição de uma fração do regularizador\n",
    "l = 0.01\n",
    "\n",
    "# desenvolvimento do modelo Keras para uma MLP\n",
    "model = Sequential()\n",
    "model.add(Dense(20, activation='relu', input_dim=6,\n",
    "                kernel_regularizer=regularizers.l2(l)))\n",
    "# Aplicação de um dropout (caso necessário)\n",
    "# model.add(Dropout(0.5))\n",
    "model.add(Dense(10, activation='relu',\n",
    "                kernel_regularizer=regularizers.l2(l)))\n",
    "# Aplicação de um dropout (caso necessário)\n",
    "# model.add(Dropout(0.5))\n",
    "model.add(Dense(4, activation='softmax'))\n",
    "\n",
    "# Aplicação de um modelo de descida de gradiente utilizando o Stocastic Gradient Descendent (SGD)\n",
    "sgd = SGD(lr=0.05, momentum=0.0)\n",
    "# Função de otimização da rede: ADAM\n",
    "adam = Adam(lr=0.005, beta_1=0.9, beta_2=0.999)\n",
    "# Função de custo baseada em dados originalmente categóricos\n",
    "model.compile(loss='categorical_crossentropy', optimizer=adam,\n",
    "              metrics=['accuracy'])\n",
    "\n",
    "history = model.fit(X_train, y_train, epochs=150, batch_size=15,\n",
    "                    validation_data=(X_val, y_val))\n",
    "plot_history(history)\n",
    "score = model.predict_classes(X_test)\n",
    "y_true = [np.where(x == 1)[0][0] for x in y_test]\n",
    "print('Acurácia: %0.2f%%' % (accuracy_score(y_true, score) * 100))\n",
    "print('Matriz de confusão:')\n",
    "print(confusion_matrix(y_true, score))\n",
    "print()\n",
    "print(classification_report(y_true, score, digits=5))"
   ]
  },
  {
   "cell_type": "markdown",
   "id": "f59fc196",
   "metadata": {},
   "source": [
    "**Desafio:** \"Encaixar\" o classificador MLP no no *dataset* criado durante a disciplina."
   ]
  }
 ],
 "metadata": {
  "kernelspec": {
   "display_name": "Python 3 (ipykernel)",
   "language": "python",
   "name": "python3"
  },
  "language_info": {
   "codemirror_mode": {
    "name": "ipython",
    "version": 3
   },
   "file_extension": ".py",
   "mimetype": "text/x-python",
   "name": "python",
   "nbconvert_exporter": "python",
   "pygments_lexer": "ipython3",
   "version": "3.9.7"
  }
 },
 "nbformat": 4,
 "nbformat_minor": 5
}
